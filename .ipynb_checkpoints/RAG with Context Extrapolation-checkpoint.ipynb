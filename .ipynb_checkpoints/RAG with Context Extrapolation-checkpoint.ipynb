{
 "cells": [
  {
   "cell_type": "code",
   "execution_count": 1,
   "id": "d8ba7671",
   "metadata": {},
   "outputs": [],
   "source": [
    "#!pip install langchain==0.1.14\n",
    "##!pip install langchain-core==0.1.13\n",
    "#!pip install langchain_experimental==0.0.56\n",
    "#!pip install langchain-community==0.0.31\n",
    "#!pip install faiss-cpu==1.8.0\n",
    "#!pip install pdfplumber==0.11.0\n",
    "#!pip install gradio==4.25.0"
   ]
  },
  {
   "cell_type": "code",
   "execution_count": 1,
   "id": "dc7282d9",
   "metadata": {},
   "outputs": [],
   "source": [
    "from langchain_community.document_loaders import PDFPlumberLoader,PyMuPDFLoader\n",
    "import re\n",
    "from unidecode import unidecode\n",
    "from langchain_core.documents import Document\n",
    "from langchain_experimental.text_splitter import SemanticChunker\n",
    "from langchain.text_splitter import RecursiveCharacterTextSplitter\n",
    "from langchain.embeddings import HuggingFaceEmbeddings\n",
    "from langchain_community.embeddings import HuggingFaceEmbeddings\n",
    "from langchain_community.vectorstores import FAISS\n",
    "from langchain_community.llms import Ollama\n",
    "from langchain.chat_models import ChatOpenAI\n",
    "from langchain.chains.llm import LLMChain\n",
    "from langchain.prompts import PromptTemplate\n",
    "from langchain.chains.llm import LLMChain\n",
    "from collections import defaultdict\n",
    "from langchain.chains import RetrievalQA\n",
    "from langchain.chains.combine_documents.stuff import StuffDocumentsChain\n",
    "import os\n",
    "\n",
    "os.environ[\"OPENAI_API_KEY\"] = \"sk-your-openai-key\""
   ]
  },
  {
   "cell_type": "code",
   "execution_count": 2,
   "id": "221a2c04",
   "metadata": {},
   "outputs": [],
   "source": [
    "def clean_text(text):\n",
    "    # 1. Normalize unicode characters\n",
    "    text = unidecode(text)\n",
    "\n",
    "    # 2. Remove repeated dots or whitespace clutter\n",
    "    text = re.sub(r'([!?.])(?:\\s*\\1)+', r'\\1', text)\n",
    "    text = re.sub(r'\\s+', ' ', text)\n",
    "\n",
    "    # 3. Remove page numbers or repeated headers/footers (basic heuristic)\n",
    "    text = re.sub(r'Page\\s+\\d+|\\d+\\s+Page', '', text, flags=re.IGNORECASE)\n",
    "\n",
    "    # 4. Remove any non-printable/control characters\n",
    "    text = re.sub(r'[^\\x20-\\x7E]', '', text)\n",
    "\n",
    "    # 5. Remove long runs of punctuation or special chars\n",
    "    text = re.sub(r'[~`_*^=\\\\]+', '', text)\n",
    "\n",
    "    # 6. Strip any leading/trailing spaces\n",
    "    text = text.strip()\n",
    "\n",
    "    return text"
   ]
  },
  {
   "cell_type": "code",
   "execution_count": 45,
   "id": "41d0f12d",
   "metadata": {},
   "outputs": [],
   "source": [
    "loader = PyMuPDFLoader(\"policy_docs.pdf\")\n",
    "docs = loader.load()\n"
   ]
  },
  {
   "cell_type": "code",
   "execution_count": 46,
   "id": "02ab2615",
   "metadata": {},
   "outputs": [],
   "source": [
    "docs = [\n",
    "    Document(\n",
    "        page_content=clean_text(doc.page_content),\n",
    "        metadata=doc.metadata\n",
    "    )\n",
    "    for doc in docs\n",
    "]"
   ]
  },
  {
   "cell_type": "code",
   "execution_count": 47,
   "id": "2fa260d3",
   "metadata": {},
   "outputs": [],
   "source": [
    "combined_text = \"\"\n",
    "for i, doc in enumerate(docs):\n",
    "    combined_text += f\"\\n\\n[Page {i + 1}]\\n\" + doc.page_content"
   ]
  },
  {
   "cell_type": "code",
   "execution_count": 48,
   "id": "42620489",
   "metadata": {},
   "outputs": [],
   "source": [
    "#text_splitter = SemanticChunker(HuggingFaceEmbeddings())\n",
    "text_splitter = RecursiveCharacterTextSplitter(\n",
    "    chunk_size=1000,\n",
    "    chunk_overlap=200\n",
    ")\n",
    "chunks = text_splitter.create_documents([combined_text])"
   ]
  },
  {
   "cell_type": "code",
   "execution_count": 49,
   "id": "7419ca39",
   "metadata": {},
   "outputs": [],
   "source": [
    "page_marker_regex = re.compile(r\"\\[Page (\\d+)\\]\")\n",
    "\n",
    "last_known_page = None\n",
    "\n",
    "for chunk in chunks:\n",
    "    match = page_marker_regex.search(chunk.page_content)\n",
    "    if match:\n",
    "        page_num = int(match.group(1))\n",
    "        chunk.metadata[\"page\"] = page_num\n",
    "        last_known_page = page_num\n",
    "    elif last_known_page is not None:\n",
    "        chunk.metadata[\"page\"] = last_known_page\n"
   ]
  },
  {
   "cell_type": "code",
   "execution_count": 50,
   "id": "8176a65f",
   "metadata": {},
   "outputs": [
    {
     "data": {
      "text/plain": [
       "138"
      ]
     },
     "execution_count": 50,
     "metadata": {},
     "output_type": "execute_result"
    }
   ],
   "source": [
    "len(chunks)"
   ]
  },
  {
   "cell_type": "code",
   "execution_count": 51,
   "id": "b88a118d",
   "metadata": {},
   "outputs": [],
   "source": [
    "# Instantiate the embedding model\n",
    "embedder = HuggingFaceEmbeddings(model_name=\"all-MiniLM-L6-v2\")\n"
   ]
  },
  {
   "cell_type": "code",
   "execution_count": 52,
   "id": "002add0d",
   "metadata": {},
   "outputs": [],
   "source": [
    "# Create the vector store \n",
    "vector = FAISS.from_documents(chunks, embedder)"
   ]
  },
  {
   "cell_type": "code",
   "execution_count": 53,
   "id": "d0852b44",
   "metadata": {},
   "outputs": [],
   "source": [
    "# Input\n",
    "retriever = vector.as_retriever(search_type=\"similarity\", search_kwargs={\"k\": 10})\n"
   ]
  },
  {
   "cell_type": "code",
   "execution_count": 54,
   "id": "e22dcd7a",
   "metadata": {},
   "outputs": [
    {
     "name": "stdout",
     "output_type": "stream",
     "text": [
      "{'page': 7}\n",
      "{'page': 21}\n",
      "{'page': 22}\n",
      "{'page': 7}\n",
      "{'page': 10}\n",
      "{'page': 12}\n",
      "{'page': 15}\n",
      "{'page': 22}\n",
      "{'page': 18}\n",
      "{'page': 21}\n"
     ]
    }
   ],
   "source": [
    "retrieved_docs = retriever.invoke(\"List all action items in Focus Area 2.\")\n",
    "for doc in retrieved_docs:\n",
    "    print(doc.metadata)"
   ]
  },
  {
   "cell_type": "code",
   "execution_count": 55,
   "id": "65ef42ec",
   "metadata": {
    "scrolled": true
   },
   "outputs": [],
   "source": [
    "# Define llm\n",
    "llama_llm = Ollama(model=\"llama3.1:latest\")\n",
    "openai_llm = ChatOpenAI(\n",
    "    model_name=\"gpt-4o\",  # Or \"gpt-3.5-turbo\"\n",
    "    temperature=0,\n",
    "    verbose=True\n",
    ")"
   ]
  },
  {
   "cell_type": "code",
   "execution_count": 56,
   "id": "1439d9c3",
   "metadata": {},
   "outputs": [],
   "source": [
    "prompt = \"\"\"\n",
    "        You are given a question and a list of raw texts extracted from a PDF. There might or might not be a correlation between the texts.\n",
    "        Your task is to answer the question based on the information from raw texts.\n",
    "        \n",
    "        Context: {context}\n",
    "        \n",
    "        Question: {question}\n",
    "\n",
    "\n",
    "        Instructions:\n",
    "        Consider yourself as a helpful RAG assistant that answers questions.\n",
    "        Find and use the information from the raw texts to answer the question.\n",
    "        Answer the question in a direct way without referring to the texts.\n",
    "        List the individual page number(s) of the information that you used to answer the question. Cite it at the end of your response.\n",
    "        Ensure that the answer is coherent, logically structured, and uses clear language.\n",
    "    \"\"\""
   ]
  },
  {
   "cell_type": "code",
   "execution_count": 57,
   "id": "c68ebee8",
   "metadata": {},
   "outputs": [],
   "source": [
    "QA_CHAIN_PROMPT = PromptTemplate.from_template(prompt) \n",
    "\n",
    "llm_chain = LLMChain(\n",
    "                  llm=openai_llm, \n",
    "                  prompt=QA_CHAIN_PROMPT, \n",
    "                  callbacks=None, \n",
    "                  verbose=True)\n",
    "\n"
   ]
  },
  {
   "cell_type": "code",
   "execution_count": 58,
   "id": "ad1d80f1",
   "metadata": {},
   "outputs": [],
   "source": [
    "# Create a dictionary to store chunks by page number\n",
    "chunks_by_page = defaultdict(list)\n",
    "\n",
    "# Organize chunks by their page number\n",
    "for chunk in chunks:\n",
    "    page_num = chunk.metadata.get(\"page\")\n",
    "    if page_num is not None:\n",
    "        chunks_by_page[page_num].append(chunk)\n",
    "\n",
    "# Function to get neighboring pages' chunks\n",
    "def get_neighboring_chunks(page_num):\n",
    "    neighboring_chunks = []\n",
    "    \n",
    "    # Get chunks for the current page\n",
    "    neighboring_chunks.extend(chunks_by_page.get(page_num, []))\n",
    "    \n",
    "    # Get chunks for the previous page\n",
    "    if page_num - 1 > 0:\n",
    "        neighboring_chunks.extend(chunks_by_page.get(page_num - 1, []))\n",
    "    \n",
    "    # Get chunks for the next 2 pages\n",
    "    neighboring_chunks.extend(chunks_by_page.get(page_num + 1, []))\n",
    "    neighboring_chunks.extend(chunks_by_page.get(page_num + 2, []))\n",
    "    \n",
    "    return neighboring_chunks\n"
   ]
  },
  {
   "cell_type": "code",
   "execution_count": 59,
   "id": "90fea556",
   "metadata": {},
   "outputs": [],
   "source": [
    "query = \"Summarize focus area 3\""
   ]
  },
  {
   "cell_type": "markdown",
   "id": "ec1ed854",
   "metadata": {},
   "source": [
    "# LLM response with extrapolated pages"
   ]
  },
  {
   "cell_type": "code",
   "execution_count": 60,
   "id": "79b2d442",
   "metadata": {},
   "outputs": [
    {
     "name": "stdout",
     "output_type": "stream",
     "text": [
      "\n",
      "\n",
      "\u001b[1m> Entering new LLMChain chain...\u001b[0m\n",
      "Prompt after formatting:\n",
      "\u001b[32;1m\u001b[1;3m\n",
      "        You are given a question and a list of raw texts extracted from a PDF. There might or might not be a correlation between the texts.\n",
      "        Your task is to answer the question based on the information from raw texts.\n",
      "        \n",
      "        Context: ['[Page 21]\\n21 Focus Area 4: Develop AI expertise within the USPTO\\'s workforce. The USPTO\\'s dedicated workforce is our backbone, and the success of our AI Strategy rests on our employees\\' readiness to navigate an increasingly AI-forward world. The USPTO is fortunate to have an exceptionally skilled workforce, with approximately 14,000 personnel boasting diverse talents across the sciences, engineering, law, IT, and other disciplines. We will invest in growing our workforce\\'s AI expertise to meet the ever-changing landscape of AI opportunities and challenges. Providing foundational AI training will assist in carrying out the agency\\'s work, which, in turn, will benefit external stakeholders. Moreover, as more of our examining and business activities continue to involve AI, and as AI technology becomes increasingly critical to delivering high-quality services, we will also require more specialized exper tise in analyzing and implementing AI technology. Pursuant to section 2(g) of Executive Order\\nincreasingly critical to delivering high-quality services, we will also require more specialized exper tise in analyzing and implementing AI technology. Pursuant to section 2(g) of Executive Order 14110, along with OMB M-24-10 and the AI Training Act of 2022, the USPTO will address this spectrum of skill needs through comprehensive investments in AI literacy and upskilling, partnering with our business units and employee unions in providing rel evant offerings across our workforce. We will also recruit personnel with AI experience and expertise. Action 4.1: Expand training to address AI-related subject matter in USPTO examination. As AI\\'s role expands in innovation and commerce, the USPTO must equip our exam iners to address AI-related subject matter in patent and trademark examination. With the number of AI-related patent applications increasing substantially over the past two decades, there is an ever-growing need to develop and maintain AI expertise among our patent examination\\nWith the number of AI-related patent applications increasing substantially over the past two decades, there is an ever-growing need to develop and maintain AI expertise among our patent examination personnel.50 This need is not confined to those who examine core AI technologies; rather, the diffusion of AI across technical disciplines necessitates that all patent examiners have access to robust AI training offerings.51 Furthermore, as our trademark examining attorneys encounter applications involving AI-derived matter or AI-related goods and services, they too will benefit from understanding AI technolo gies and their positioning within the marketplace. The USPTO will promote breadth and depth of AI fluency across our patent and trade mark examiners, including through the following means:  Developing foundational curricula available to all examiners: Although the need for patent and trademark examiners to train in the use of AI technologies will vary, 50 See Inventing AI: Tracing the\\nDeveloping foundational curricula available to all examiners: Although the need for patent and trademark examiners to train in the use of AI technologies will vary, 50 See Inventing AI: Tracing the diffusion of artificial intelligence with U.S. patents, at p.2, www.uspto.gov/sites/default/files/ documents/OCE-DH-AI.pdf. 51 We note that external stakeholders have recently sharpened their attention on training in AI as an emerging need at the USPTO. For instance, a draft Senate bill from the 117th Congress, Patent Examination and Quality Improvement Act of 2022, calls for recommendations on improving the training of USPTO examiners in \"examination fields affected by emerging and complex technologies, including [AI and machine learning],\" S. 4704, SS 4(3)(C); Public Views on Artificial Intelligence and Intellectual Property Policy, at p.14 (Oct. 2020), www.uspto.gov/sites/default/files/documents/USPTOAI-Report2020-10-07.pdf.\\n[Page 20]\\n20 frequently about our AI activities, including how responsible AI principles are being incorporated into agency AI activities.45 We will also provide our employees and public users with information enabling them to understand each USPTO AI system\\'s benefits and limitations in deciding whether and how to use that system. Action 3.2: Monitor and address the use of AI in the broader innovation ecosystem to help shape IP and innovation. The USPTO will closely observe the use of AI in the innovation and IP ecosystems, with the goal of encouraging the beneficial and responsible use of these technologies through policy and guidance. Particular priorities include:  Understanding AI\\'s role in legal practice: To properly govern practice before the USPTO, we will work with the practitioner community to understand AI\\'s current and future role and uses in legal practice. AI will reshape the practice of law--including aspects of how IP practitioners serve clients. We will take appro priate\\nto understand AI\\'s current and future role and uses in legal practice. AI will reshape the practice of law--including aspects of how IP practitioners serve clients. We will take appro priate measures to ensure that AI is used in a beneficial manner, consistent with practitioners\\' responsibilities to provide competent and ethical representation to clients.46 We will also study how responsible uses of AI can expand access to IP services, particularly to under-served communities.47  Encouraging responsible AI use by promoting IP awareness and compliance with IP laws and policy: Responsible AI requires all parties to act lawfully and with attention toward others\\' rights. Responsible AI practices that pertain to IP include lawful and ethical data sourcing, appropriate attribution and content provenance mechanisms, and proper licensing of IP-protected inputs, among other practices. Safeguarding and respecting IP rights is an essential principle for responsible AI, as underscored in\\nprovenance mechanisms, and proper licensing of IP-protected inputs, among other practices. Safeguarding and respecting IP rights is an essential principle for responsible AI, as underscored in Executive Order 14110.48 Additionally, the AI RMF calls for AI practitioners to adopt policies and procedures that respect third- party rights,49 including IP rights. The USPTO will work to promote respect for IP laws and policies as a fundamental tenet of responsible AI practice. Recognizing that IP issues may arise in cybersecurity research, red-teaming, and other activi ties that advance safe and trustworthy AI, the USPTO will continually review the state of the law as it relates to these activities and identify relevant IP issues. 45 Off. of Mgmt. & Budget, Exec. Off. of the President, OMB Bull. No. M-24-10, Advancing Governance, Innovation, and Risk Man agement for Agency Use of Artificial Intelligence, at p.5 (2024). 46 The Applicability of Existing Regulations as to Party and Practitioner\\nNo. M-24-10, Advancing Governance, Innovation, and Risk Man agement for Agency Use of Artificial Intelligence, at p.5 (2024). 46 The Applicability of Existing Regulations as to Party and Practitioner Misconduct Related to the Use of Artificial Intelligence (Feb. 6, 2024), www.uspto.gov/sites/default/files/documents/directorguidance-aiuse-legalproceedings.pdf; Guidance on Use of Artificial Intelligence-Based Tools in Practice Before the United States Patent and Trademark Office, 89 FR 25609 (Apr. 11, 2024). 47 Guidance on Use of Artificial Intelligence-Based Tools in Practice Before the United States Patent and Trademark Office, 89 FR 25609 (Apr. 11, 2024). 48 Exec. Order No. 14110 at SS 5.3(a), 88 FR 75191, 75208-75209 (Oct. 30, 2023). 49 Artificial Intelligence Risk Management Framework (AI RMF 1.0), at p.24 (Govern 6.1) (Jan. 2023), https://nvlpubs.nist.gov/ nistpubs/ai/NIST.AI.100-1.pdf. On April 11, 2024, the USPTO issued guidance on the use of AI by those practicing before the\\n(AI RMF 1.0), at p.24 (Govern 6.1) (Jan. 2023), https://nvlpubs.nist.gov/ nistpubs/ai/NIST.AI.100-1.pdf. On April 11, 2024, the USPTO issued guidance on the use of AI by those practicing before the USPTO.47 The guidance: (1) reminds individuals involved in agency proceedings of the pertinent rules and policies, (2) helps inform those same individuals of the risks associated with the use of AI, and (3) provides suggestions to mitigate those risks. The USPTO\\'s guidance is the first from a Federal agency to specifically address AI\\'s use in legal practice before the agency.\\n[Page 22]\\n22 a baseline level of foundational AI fluency will broadly benefit all examiners and, through them, the public. The USPTO has already invested substantial resources in developing and curating AI curricula tailored to our specific needs. We will continue developing and refining such curricula, leveraging resources including USPTO-hosted lectures, interagency and external training offerings, and other material.  Ensuring depth and recency of training offerings: Certain patent examiners, including those who examine particularly complex applications of AI or cutting- edge advances in foundational AI, may benefit from deeper AI knowledge. Our patent examiners already benefit from the Patent Examiner Technical Training Program and Site Experience Education program, which expose examiners to new developments in areas including AI. The USPTO will explore ways to augment existing offerings to instill deep expertise in relevant AI technologies and keep pace with the innovation frontier--for\\nnew developments in areas including AI. The USPTO will explore ways to augment existing offerings to instill deep expertise in relevant AI technologies and keep pace with the innovation frontier--for instance, by proactively sourcing specific trainings on nascent AI methodologies.  Attracting and recruiting AI skillsets in examiner hiring: The USPTO\\'s examiner hiring priorities continually evolve with the agency\\'s needs. As more patent and trademark applications containing AI-related matter are filed each year, we will benefit from the continual infusion of AI knowledge into each new examiner class. Given the demand for such talent, the USPTO will consider all available means to attract candidates with AI skillsets, including through methods identified by the AI and Technology Talent Task Force.52 Action 4.2: Empower our workforce with AI expertise to support diverse organizational needs. From IT and analytics to empirical research and legal services, our workforce\\'s famil iarity with\\nForce.52 Action 4.2: Empower our workforce with AI expertise to support diverse organizational needs. From IT and analytics to empirical research and legal services, our workforce\\'s famil iarity with AI is critical to the USPTO\\'s success. We will empower our teams with the right expertise to navigate new opportunities and impacts presented by AI within their respective workstreams. Each USPTO business unit maintains training programs to meet the specific needs of their personnel. When those needs call for specific AI skillsets, we will support our organizational leaders and personnel in identifying appro priate resources for developing those skillsets. In doing so, we will consider areas such as the following:  IT: To enable the ambitious AI innovation agenda set forth in Focus Area 2 (see above), we will develop a bench of AI product development talent by upskilling our IT professionals and recruiting those with relevant expertise to the USPTO. First, we will build on the AI training\\nabove), we will develop a bench of AI product development talent by upskilling our IT professionals and recruiting those with relevant expertise to the USPTO. First, we will build on the AI training offerings developed by our Office of the Chief Information Officer to cultivate the skills needed to create, train, deploy, man age, and govern USPTO AI systems.53 In doing so, we will consider the needs of 52 Exec. Order No. 14110 at SS 10.2(b), 88 FR 75191, 75221 (Oct. 30, 2023). 53 For example, OMB M-24-18 describes the importance of tailored AI training for agency acquisition workforces. Off. of Mgmt. & Budget, Exec. Off. of the President, OMB Bull. No. M-24-18, Advancing the Responsible Acquisition of Artificial Intelligence in Government, at p.30 (2024). Between January and May 2024, USPTO employees attended, in-person or virtually, approximately 19 live presentations on AI-related technologies ranging from AI-powered image and speech processing to the latest advances in large-scale\\nemployees attended, in-person or virtually, approximately 19 live presentations on AI-related technologies ranging from AI-powered image and speech processing to the latest advances in large-scale generative AI through Tech Fairs. Each presentation had an average attendance of over 400 employees. Our employees also have access to a library of over 200 (and counting) AI-related courses through Technical Training on Demand.\\n[Page 23]\\n23 not only IT specialists but all personnel across the USPTO who contribute to IT planning and delivery. Second, we will seek out individuals with demonstrated AI experience and expertise for relevant USPTO IT roles. With our technology- focused culture, unique problem domains, and singular mission, the USPTO will strive to be the premier workplace for AI technologists to innovate in service of American innovators.  Adjudication and legal services: AI expertise also supports our adjudication boards and legal service offices, whose personnel will contend with AI-related legal matters and the opportunities and risks presented by AI tools in legal prac tice. For instance, our Patent Trial and Appeal Board and Trademark Trial and Appeal Board judges, who must decide appeals and inter partes (trial) disputes potentially involving AI concepts and terminology, may benefit from the offerings and competencies described in Action 4.1 (see above). Furthermore, as the legal landscape evolves in\\n(trial) disputes potentially involving AI concepts and terminology, may benefit from the offerings and competencies described in Action 4.1 (see above). Furthermore, as the legal landscape evolves in response to AI, we will consider appropriate means to help our legal professionals keep abreast of AI-related legal developments relevant to their work.  USPTO-wide AI resources: As with many complex subjects, much of the diffi culty in learning to effectively use AI technologies is knowing where and how to start. Some of the USPTO\\'s business units have already developed orientation resources to guide their employees\\' AI learning journeys. We are building on these efforts through an agency-wide AI resource portal, which will serve as an enterprise-wide landing point for AI training offerings and resources across roles and organizational contexts. We will curate and augment the portal to meet the evolving needs and interests of our employees. To develop additional agen cy-wide resources,\\nand resources across roles and organizational contexts. We will curate and augment the portal to meet the evolving needs and interests of our employees. To develop additional agen cy-wide resources, we have also established the USPTO AI and Emerging Tech nologies Premier Lecture Series. Through this first-of-its-kind program, we are engaging the foremost AI luminaries from industry and academia to share critical AI knowledge with our workforce. The inaugural lecture was held in October 2024, with over 4,100 employees in attendance from the USPTO and other Department of Commerce bureaus.  Education on effective and responsible use of AI: Most USPTO employees already have access to AI-based IT tools, and the extent of employee AI use will grow with the USPTO\\'s AI-related IT investments. The USPTO will continually work to provide user-oriented training on the effective and responsible use of AI tools. Such training will include both general guidance on applicable Department of Commerce\\nUSPTO will continually work to provide user-oriented training on the effective and responsible use of AI tools. Such training will include both general guidance on applicable Department of Commerce and USPTO IT and cybersecurity policies, as well as training tai lored to specific AI tools used by our personnel.54 54 In particular, any generative AI tools developed or acquired by the USPTO will be accompanied by suitable training consistent with section 10.1(f)(ii) of Executive Order 14110. Exec. Order No. 14110 at SS 10.1(f)(ii), 88 FR 75191, 75220 (Oct. 30, 2023).', '[Page 7]\\n7 Overview of the USPTO AI Strategy The USPTO\\'s 2022-2026 Strategic Plan (USPTO Strategic Plan) sets forth the agency\\'s overall vision as \"Unleashing America\\'s Potential\" and directs the agency to \"drive U.S. innovation, inclusive capitalism, and global competitiveness.\"12 This USPTO AI Strat egy defines the agency\\'s AI priorities across policy, technology, research, and other domains in service of the USPTO Strategic Plan. Our agency\\'s AI vision is to unleash America\\'s potential through the adoption of AI to drive and scale U.S. innovation, inclusive capitalism, and global competitiveness. To realize this vision, we will pursue a mission centered on fostering AI innovation, lever aging AI effectively and responsibly, and empowering the AI ecosystem with data and research. The USPTO will advance our AI vision and mission through five AI Focus Areas, each of which identifies a set of concrete actions for the agency to undertake. These Focus Areas complement one another, reflecting the\\nadvance our AI vision and mission through five AI Focus Areas, each of which identifies a set of concrete actions for the agency to undertake. These Focus Areas complement one another, reflecting the collaborative and interconnected nature of our AI initiatives. 12 United States Patent and Trademark Office 2022-2026 Strategic Plan, at p.7 (May 19, 2023), www.uspto.gov/sites/default/ files/documents/USPTO2022-2026StrategicPlan.pdf. USPTO AI Vision Unleashing America\\'s potential through the adoption of AI to drive and scale U.S. innovation, inclusive capitalism, and global competitiveness. USPTO AI Mission Foster the research, development, and commercialization of AI in the domestic and global economy. Leverage AI effectively and responsibly to empower our staff, optimize our operations, and deliver value to our stakeholders. Empower current and future innovation and investment in the same through data and research. USPTO AI Focus Areas 1. Advance the development of IP policies that\\nand deliver value to our stakeholders. Empower current and future innovation and investment in the same through data and research. USPTO AI Focus Areas 1. Advance the development of IP policies that promote inclusive AI innovation and creativity. 2. Build best-in-class AI capabilities by investing in computational infrastructure, data resources, and business-driven product development. 3. Promote the responsible use of AI within the USPTO and across the broader innovation ecosystem. 4. Develop AI expertise within the USPTO\\'s workforce. 5. Collaborate with other U.S. government agencies, international partners, and the public on shared AI priorities.\\n[Page 6]\\n6 In doing so, we must work to ensure that people and communities across America participate in--and benefit from--AI innovation.11 The USPTO must also innovate in service of America\\'s inventors and entrepreneurs to efficiently deliver robust and reliable IP rights. America\\'s IP system has come a long way since the first U.S. patent was granted in 1790. Today, USPTO patent examiners and trademark examining attorneys contend with over a million new applications annually, and the information required to examine those applications spans diverse datasets consisting of hundreds of millions of documents. Our administrative tribunals and other organizational components face their own unique challenges in analyzing and retrieving information. Due to the complexity and scale of our operations, the USPTO must continue to leverage technology--including AI--as a part of our toolset to increase operational efficiencies and empower our expert workforce. Finally, USPTO data and research programs can\\nUSPTO must continue to leverage technology--including AI--as a part of our toolset to increase operational efficiencies and empower our expert workforce. Finally, USPTO data and research programs can help reveal the dynamics of AI innovation--including the impact of AI to date, directions for future innovation, and ways in which the USPTO and the public might maximize AI\\'s positive impact. Our agency sits atop one of the world\\'s largest innovation datasets: America\\'s patent archives. This information--along with other valuable USPTO data, including trade mark registrations and examination records--is made available through our best- in-class Open Data program, forming a foundation for rigorous AI-related empirical analyses both within and beyond our agency. The USPTO will continue investing in our data and research programs so that the resulting insights can help drive innovation broadly across AI and related fields. 11 National Strategy for Inclusive Innovation, USPTO (2024),\\ninvesting in our data and research programs so that the resulting insights can help drive innovation broadly across AI and related fields. 11 National Strategy for Inclusive Innovation, USPTO (2024), www.uspto.gov/initiatives/equity/national-strategy-inclusive- innovation.\\n[Page 8]\\n8 Focus Area 1: Advance the development of IP policies that promote inclusive AI innovation and creativity. As the Federal agency responsible for granting patents, registering trademarks, and advising the President through the Secretary of Commerce on IP matters,13 the USPTO regularly formulates IP policies, practices, and recommendations to enhance the IP system\\'s effectiveness in driving U.S. innovation, inclusive capitalism, and global com petitiveness. A fundamental premise underlying the USPTO\\'s mission--and expressly recognized in the Constitution--is that IP rights incentivize innovation.14 To support American AI leadership, the USPTO seeks to advance IP policies that harness these incentives to accelerate AI innovation and creativity while minimizing the risk that the IP will be used to lock up innovation to benefit foreign adversaries or bad actors. Executive Order 14110 calls on our nation to harness AI to provide \"justice, security, and opportunity for all.\"15 Today\\'s AI\\nused to lock up innovation to benefit foreign adversaries or bad actors. Executive Order 14110 calls on our nation to harness AI to provide \"justice, security, and opportunity for all.\"15 Today\\'s AI ecosystem involves many stakeholder communi ties, including AI researchers and developers, infrastructure providers, content creators, brand owners, and end users. Our AI-related policy efforts will aim to uphold respect for IP rights across these communities and further the IP system\\'s ability to support broad-based innovation, creativity, and investment throughout the rapidly-evolving AI ecosystem. The USPTO has already begun to address IP\\'s role in AI innovation and creativity --including by issuing guidance and recommendations on AI-related IP issues, as directed in section 5.2 of Executive Order 14110--and will continue doing so by devel oping additional IP policies, practices, and recommendations pertaining to AI, as appropriate. Our work will be informed by diverse stakeholder\\nOrder 14110--and will continue doing so by devel oping additional IP policies, practices, and recommendations pertaining to AI, as appropriate. Our work will be informed by diverse stakeholder feedback, data-driven approaches, and advancements in AI technology. Action 1.1: Ensure that the USPTO anticipates and effectively responds to emerging AI-related IP policy issues. With the proliferation of AI across the economy, horizon-scanning is crucial to ensure that IP laws, policies, and practices keep pace with the evolution of AI technology. The USPTO will monitor emerging AI-related IP issues and consider how IP policies and practices can continue to foster both innovations in AI technology and the use of AI to advance other technologies. As appropriate, the USPTO will advocate for the devel opment of balanced and sound judicial precedents and legislation that promote both AI innovation and respect for IP rights, while not unnecessarily constraining future AI innovation. For example,\\nopment of balanced and sound judicial precedents and legislation that promote both AI innovation and respect for IP rights, while not unnecessarily constraining future AI innovation. For example, the USPTO would advocate for judicial positions, consistent 13 35 U.S.C. SS 2(b)(8). 14 Article I, section 8, clause 8 of the U.S. Constitution expressly gives Congress the authority to grant exclusive, temporary rights to individuals for their creations and discoveries \"to promote the Progress of Science and useful Arts.\" 15 Exec. Order No. 14110 at SS 1, 88 FR 75191 (Oct. 30, 2023).\\n[Page 9]\\n9 with existing legal precedent, that would encourage innovation with respect to issues including AI-generated prior art and AI-assisted inventions. We will provide appro priate resources to USPTO personnel and the public to promote awareness of new IP policy guidance and consistency in USPTO proceedings. We will address a broad range of AI-related issues, including in the following areas:  Patents: As AI becomes increasingly prevalent in inventions and patenting, the USPTO will continue to evaluate the resulting implications for the patent system. For instance, the USPTO has recognized that improvements in generative AI may enable AI systems to play a greater role in the inventive process, potentially even contributing in ways that resemble human inventors. In addition to inventorship, AI may also bear upon other patent-related issues, such as subject matter eligibil ity, obviousness, enablement, and written description.16 Thus, the rapid advance ment of AI technologies and the\\nAI may also bear upon other patent-related issues, such as subject matter eligibil ity, obviousness, enablement, and written description.16 Thus, the rapid advance ment of AI technologies and the increase of AI in inventions and patenting could affect not only policy, such as patentability, but also the volume and character of submitted applications. The USPTO will study AI-related patent issues as new developments expand AI\\'s capabilities, act as appropriate to ensure that agency policies and practices are responsive to these developments, and provide guid ance and resources to effectively implement these policies and practices.17 18  Trademarks: The USPTO will monitor AI-related trademark developments and consider appropriate actions to ensure that its trademark policies and practices keep pace with the use of AI by brand owners. We will also study current and potential uses of AI for safeguarding trademark rights, exploring whether AI capabilities can be leveraged to help brand\\nkeep pace with the use of AI by brand owners. We will also study current and potential uses of AI for safeguarding trademark rights, exploring whether AI capabilities can be leveraged to help brand owners enforce trademark rights, mitigate counterfeiting, and demonstrate the provenance or authenticity of goods and services. Finally, the USPTO will analyze AI\\'s implications for trademark and associated unfair competition law and policy, assessing whether current laws suf ficiently address the unauthorized AI-generated content that replicates existing proprietary content or mimics individuals\\' names, images, voices, likenesses, and other indicia of identity (Name, Image, and Likeness, or NIL).  Copyright: The development and use of AI systems implicates a variety of copy right law and policy considerations, including with respect to data ingested into and outputs generated by these systems. The USPTO proactively engages on these critical issues and will continue to do so, including by\\nconsiderations, including with respect to data ingested into and outputs generated by these systems. The USPTO proactively engages on these critical issues and will continue to do so, including by continuing to monitor relevant litigation in Federal courts--weighing in as appropriate--and by con tinuing to provide technical assistance to Congress as it develops legislation to address these issues. The USPTO will also continue to carefully follow interna tional developments on these topics and coordinate across government to engage 16 Request for Comments Regarding the Impact of the Proliferation of Artificial Intelligence on Prior Art, the Knowledge of a Person Having Ordinary Skill in the Art, and Determinations of Patentability Made in View of the Foregoing, 89 FR 34217 (Apr. 30, 2024). 17 Inventorship Guidance for AI-Assisted Inventions, 89 FR 10043 (Feb. 13, 2024). 18 2024 Guidance Update on Patent Subject Matter Eligibility, Including on Artificial Intelligence, 89 FR 58128 (Jul.\\n17 Inventorship Guidance for AI-Assisted Inventions, 89 FR 10043 (Feb. 13, 2024). 18 2024 Guidance Update on Patent Subject Matter Eligibility, Including on Artificial Intelligence, 89 FR 58128 (Jul. 17, 2024). In February 2024, the USPTO issued guidance on inventorship for AI-assisted inventions pursuant to Executive Order 14110. Given the greater role AI is poised to play in the innovation process, the guidance explains the circumstances in which inventors may seek patent protection for inventions made with the assistance of AI systems, along with the USPTO\\'s approach to analyzing inventorship issues.17 The USPTO also issued a guidance update on patent subject matter eligibility.18 The USPTO is currently evaluating public feedback received on both documents and will continue to actively engage with stakeholders and evolve policies as appropriate.', \"[Page 18]\\n18 Focus Area 3: Promote the responsible use of AI within the USPTO and across the broader innovation ecosystem. The benefits of AI must be maximized in a responsible manner. The principles of responsible AI--safety, fairness, transparency, privacy, reliability, and accountability-- are pillars of the Federal Government's approach to AI. In particular, Executive Order 13960, Promoting the Use of Trustworthy Artificial Intelligence in the Federal Govern ment, established principles for the trustworthy use of AI by Federal agencies. Exec utive Order 14110 further directed Federal agencies to advance the responsible use of AI, including through the appropriate and secure use of generative AI systems.38 These and other applicable laws, regulations, and directives will continue to guide how the USPTO adopts AI in its operations. Beyond the Federal Government, we must also promote the responsible development and use of AI across all of society. The Blueprint for an AI Bill of Rights\\nhow the USPTO adopts AI in its operations. Beyond the Federal Government, we must also promote the responsible development and use of AI across all of society. The Blueprint for an AI Bill of Rights (Blueprint), developed by the White House Office of Science and Technology Policy, identifies five key principles for protecting individuals and preserving democratic values in the use of AI.39 Furthermore, NIST's AI Risk Management Framework (AI RMF) sets forth a comprehensive approach to framing risks and increasing the trustworthiness of AI systems.40 Major AI stakeholders have signaled their commitment to manage AI's risks through measures consistent with the Blueprint and the AI RMF, 41 and responsible AI must remain a key component of the AI innovation ecosystem. The USPTO will strive to maintain public confidence in our own adoption of AI by upholding safety, security, and trust across our AI technology initiatives. We will also study the use of AI within the broader innovation\\nto maintain public confidence in our own adoption of AI by upholding safety, security, and trust across our AI technology initiatives. We will also study the use of AI within the broader innovation ecosystem to establish a comprehen sive understanding of how AI can be used responsibly in promoting innovation and how IP considerations can be incorporated into responsible AI practices. Action 3.1: Maintain public trust in the USPTO's adoption of AI through value-aligned product development, risk mitigation, and transparent stakeholder communication. 38 Exec. Order No. 13960, 85 FR 78939 (Dec. 3, 2020); Exec. Order No. 14110 at SS 10.1(f), 88 FR 75191, 75220 (Oct. 30, 2023); see also Off. of Mgmt. & Budget, Exec. Off. of the President, OMB Bull. No. M-24-10, Advancing Governance, Innovation, and Risk Management for Agency Use of Artificial Intelligence (2024), which provides additional guidance in support of EO 14110. 39 Blueprint for an AI Bill of Rights (Oct. 22, 2022),\\nInnovation, and Risk Management for Agency Use of Artificial Intelligence (2024), which provides additional guidance in support of EO 14110. 39 Blueprint for an AI Bill of Rights (Oct. 22, 2022), www.whitehouse.gov/wp-content/uploads/2022/10/Blueprint-for-an-AI-Bill- of-Rights.pdf. 40 Artificial Intelligence Risk Management Framework (AI RMF 1.0) (Jan. 2023), https://nvlpubs.nist.gov/nistpubs/ai/NIST. AI.100-1.pdf; see also Department of Commerce Announces New Guidance, Tools 270 Days Following President Biden's Executive Order on AI (July 26, 2024), www.nist.gov/news-events/news/2024/07/department-commerce-announces-new- guidance-tools-270-days-following. 41 Biden-Harris Administration Secures Voluntary Commitments from Leading Artificial Intelligence Companies to Manage the Risks Posed by AI (July 21, 2023), www.whitehouse.gov/briefing-room/statements-releases/2023/07/21/fact-sheet-biden-\\nVoluntary Commitments from Leading Artificial Intelligence Companies to Manage the Risks Posed by AI (July 21, 2023), www.whitehouse.gov/briefing-room/statements-releases/2023/07/21/fact-sheet-biden- harris-administration-secures-voluntary-commitments-from-leading-artificial-intelligence-companies-to-manage-the-risks- posed-by-ai/.\\n[Page 17]\\n17  Maximizing AI's value through continuous improvement: AI tools are dynamic systems whose effectiveness can either improve or deteriorate over time. The USPTO will continually invest in refining our AI systems and enhancing value delivery through two main approaches. First, we will solicit regular employee and stakeholder feedback on the usability and effectiveness of our AI systems. Such feedback will directly inform future technology development roadmaps and change management initiatives, helping to prioritize future improvements to max imize return on investment. Second, we will directly integrate feedback loops into our AI systems when appropriate. We will consider technical approaches, such as continuous training and reinforcement learning from feedback, to make our AI systems responsive to evolving usage patterns and user preferences.\\n[Page 19]\\n19 The integrity and effectiveness of America's IP system depends on upholding public trust in USPTO operations. AI can greatly enhance our operations, but ungoverned use of AI can expose our stakeholders to significant risks and undermine public trust. The USPTO will uphold the public's trust in our AI systems by aligning them with respon sible AI values, managing their risks, and communicating openly and frequently with stakeholders. To this end, we will adopt the following principles and practices:  Upholding equity, rights, and civil liberties: Executive Order 14091, Further Advancing Racial Equity and Support for Underserved Communities Through The Federal Government, directs Federal agencies to design and implement AI sys tems in ways that promote equity and civil rights.42 This directive was reinforced in Executive Order 14110 and OMB's Memorandum for Advancing Governance, Innovation, and Risk Management for Agency Use of Artificial Intelligence (OMB M-24-10). In particular,\\nwas reinforced in Executive Order 14110 and OMB's Memorandum for Advancing Governance, Innovation, and Risk Management for Agency Use of Artificial Intelligence (OMB M-24-10). In particular, OMB M-24-10 calls for the implementation of safeguards for AI systems that implicate civil rights, equal opportunities, or access to crit ical resources or services.43 It is crucial that AI mitigates rather than amplifies human biases, preserves privacy, and upholds the public's civil rights and liberties, and the USPTO will implement appropriate safeguards toward these ends. This includes recognizing and educating others on how sex-based discrimination and harassment may be facilitated by AI technologies, such as image-based sexual abuse, and how such misuse of AI may serve as a barrier to equity and civil rights. We will take particular care to ensure that the sourcing, selection, and use of data across the USPTO's AI initiatives is lawful, ethical, and transparent.  Upholding robust and secure\\ncivil rights. We will take particular care to ensure that the sourcing, selection, and use of data across the USPTO's AI initiatives is lawful, ethical, and transparent.  Upholding robust and secure IT practices: AI systems are information technol ogies. Therefore, responsible AI development inherits both the core tenets of responsible software development--including scalability, resilience, and cyber security--and a suite of new risks specific to AI. The USPTO will ensure that AI systems are developed in line with the standards and procedures that guide the agency's deployment and maintenance of IT systems. Consistent with OMB M-24-10, the USPTO will also consider the use of existing IT governance mech anisms (e.g., Authorizations to Operate) to monitor and assure compliance with responsible AI practices.44 Finally, the USPTO will work to maintain thorough documentation of AI system components and inputs to ensure traceability of our AI systems, remediate emerging risks as they\\nAI practices.44 Finally, the USPTO will work to maintain thorough documentation of AI system components and inputs to ensure traceability of our AI systems, remediate emerging risks as they arise, and facilitate internal and external reporting.  Communicating benefits and limitations clearly: To promote trust, both inter nally and externally, the USPTO must clearly convey the benefits and limitations of our AI systems to our stakeholders. Consistent with Focus Area 5 (see below) and OMB M-24-10's reporting requirements, we will communicate openly and 42 Exec. Order No. 14091 at SS 4(b), 88 FR 10825, 10830 (Feb. 16, 2023). 43 Off. of Mgmt. & Budget, Exec. Off. of the President, OMB Bull. No. M-24-10, Advancing Governance, Innovation, and Risk Man agement for Agency Use of Artificial Intelligence, at p.16 (2024). 44 Off. of Mgmt. & Budget, Exec. Off. of the President, OMB Bull. No. M-24-10, Advancing Governance, Innovation, and Risk Man agement for Agency Use of Artificial Intelligence,\\nat p.16 (2024). 44 Off. of Mgmt. & Budget, Exec. Off. of the President, OMB Bull. No. M-24-10, Advancing Governance, Innovation, and Risk Man agement for Agency Use of Artificial Intelligence, at p.11 (2024).\\n[Page 20]\\n20 frequently about our AI activities, including how responsible AI principles are being incorporated into agency AI activities.45 We will also provide our employees and public users with information enabling them to understand each USPTO AI system's benefits and limitations in deciding whether and how to use that system. Action 3.2: Monitor and address the use of AI in the broader innovation ecosystem to help shape IP and innovation. The USPTO will closely observe the use of AI in the innovation and IP ecosystems, with the goal of encouraging the beneficial and responsible use of these technologies through policy and guidance. Particular priorities include:  Understanding AI's role in legal practice: To properly govern practice before the USPTO, we will work with the practitioner community to understand AI's current and future role and uses in legal practice. AI will reshape the practice of law--including aspects of how IP practitioners serve clients. We will take appro priate\\nto understand AI's current and future role and uses in legal practice. AI will reshape the practice of law--including aspects of how IP practitioners serve clients. We will take appro priate measures to ensure that AI is used in a beneficial manner, consistent with practitioners' responsibilities to provide competent and ethical representation to clients.46 We will also study how responsible uses of AI can expand access to IP services, particularly to under-served communities.47  Encouraging responsible AI use by promoting IP awareness and compliance with IP laws and policy: Responsible AI requires all parties to act lawfully and with attention toward others' rights. Responsible AI practices that pertain to IP include lawful and ethical data sourcing, appropriate attribution and content provenance mechanisms, and proper licensing of IP-protected inputs, among other practices. Safeguarding and respecting IP rights is an essential principle for responsible AI, as underscored in\\nprovenance mechanisms, and proper licensing of IP-protected inputs, among other practices. Safeguarding and respecting IP rights is an essential principle for responsible AI, as underscored in Executive Order 14110.48 Additionally, the AI RMF calls for AI practitioners to adopt policies and procedures that respect third- party rights,49 including IP rights. The USPTO will work to promote respect for IP laws and policies as a fundamental tenet of responsible AI practice. Recognizing that IP issues may arise in cybersecurity research, red-teaming, and other activi ties that advance safe and trustworthy AI, the USPTO will continually review the state of the law as it relates to these activities and identify relevant IP issues. 45 Off. of Mgmt. & Budget, Exec. Off. of the President, OMB Bull. No. M-24-10, Advancing Governance, Innovation, and Risk Man agement for Agency Use of Artificial Intelligence, at p.5 (2024). 46 The Applicability of Existing Regulations as to Party and Practitioner\\nNo. M-24-10, Advancing Governance, Innovation, and Risk Man agement for Agency Use of Artificial Intelligence, at p.5 (2024). 46 The Applicability of Existing Regulations as to Party and Practitioner Misconduct Related to the Use of Artificial Intelligence (Feb. 6, 2024), www.uspto.gov/sites/default/files/documents/directorguidance-aiuse-legalproceedings.pdf; Guidance on Use of Artificial Intelligence-Based Tools in Practice Before the United States Patent and Trademark Office, 89 FR 25609 (Apr. 11, 2024). 47 Guidance on Use of Artificial Intelligence-Based Tools in Practice Before the United States Patent and Trademark Office, 89 FR 25609 (Apr. 11, 2024). 48 Exec. Order No. 14110 at SS 5.3(a), 88 FR 75191, 75208-75209 (Oct. 30, 2023). 49 Artificial Intelligence Risk Management Framework (AI RMF 1.0), at p.24 (Govern 6.1) (Jan. 2023), https://nvlpubs.nist.gov/ nistpubs/ai/NIST.AI.100-1.pdf. On April 11, 2024, the USPTO issued guidance on the use of AI by those practicing before the\\n(AI RMF 1.0), at p.24 (Govern 6.1) (Jan. 2023), https://nvlpubs.nist.gov/ nistpubs/ai/NIST.AI.100-1.pdf. On April 11, 2024, the USPTO issued guidance on the use of AI by those practicing before the USPTO.47 The guidance: (1) reminds individuals involved in agency proceedings of the pertinent rules and policies, (2) helps inform those same individuals of the risks associated with the use of AI, and (3) provides suggestions to mitigate those risks. The USPTO's guidance is the first from a Federal agency to specifically address AI's use in legal practice before the agency.\"]\n",
      "        \n",
      "        Question: Summarize focus area 3\n",
      "\n",
      "\n",
      "        Instructions:\n",
      "        Consider yourself as a helpful RAG assistant that answers questions.\n",
      "        Find and use the information from the raw texts to answer the question.\n",
      "        Answer the question in a direct way without referring to the texts.\n",
      "        List the individual page number(s) of the information that you used to answer the question. Cite it at the end of your response.\n",
      "        Ensure that the answer is coherent, logically structured, and uses clear language.\n",
      "    \u001b[0m\n"
     ]
    },
    {
     "name": "stdout",
     "output_type": "stream",
     "text": [
      "\n",
      "\u001b[1m> Finished chain.\u001b[0m\n"
     ]
    }
   ],
   "source": [
    "retrieved_docs = retriever.invoke(query)\n",
    "\n",
    "# Get the neighboring chunks for each retrieved document\n",
    "neighboring_sets = []\n",
    "for doc in retrieved_docs:\n",
    "    page_num = doc.metadata[\"page\"]\n",
    "    neighboring_chunks = get_neighboring_chunks(page_num)\n",
    "    \n",
    "    # Add the set of neighboring chunks to the list\n",
    "    neighboring_sets.append(neighboring_chunks)\n",
    "\n",
    "# Combine the neighboring chunks into single text blocks\n",
    "neighboring_texts = []\n",
    "for chunks_set in neighboring_sets:\n",
    "    combined_text = \"\\n\".join([chunk.page_content for chunk in chunks_set])\n",
    "    neighboring_texts.append(combined_text)\n",
    "\n",
    "# Use the LLM to answer the query based on the top 3 sets\n",
    "extrapolated_RAG_response = llm_chain.run({\"context\": neighboring_texts[:3], \"question\": query})\n"
   ]
  },
  {
   "cell_type": "markdown",
   "id": "bb8613e2",
   "metadata": {},
   "source": [
    "# LLM response without extrapolated pages"
   ]
  },
  {
   "cell_type": "code",
   "execution_count": 61,
   "id": "d2aaa35b",
   "metadata": {},
   "outputs": [
    {
     "name": "stdout",
     "output_type": "stream",
     "text": [
      "\n",
      "\n",
      "\u001b[1m> Entering new RetrievalQA chain...\u001b[0m\n",
      "\n",
      "\n",
      "\u001b[1m> Entering new LLMChain chain...\u001b[0m\n",
      "Prompt after formatting:\n",
      "\u001b[32;1m\u001b[1;3m\n",
      "        You are given a question and a list of raw texts extracted from a PDF. There might or might not be a correlation between the texts.\n",
      "        Your task is to answer the question based on the information from raw texts.\n",
      "        \n",
      "        Context: Context:\n",
      "content:21 Focus Area 4: Develop AI expertise within the USPTO's workforce. The USPTO's dedicated workforce is our backbone, and the success of our AI Strategy rests on our employees' readiness to navigate an increasingly AI-forward world. The USPTO is fortunate to have an exceptionally skilled workforce, with approximately 14,000 personnel boasting diverse talents across the sciences, engineering, law, IT, and other disciplines. We will invest in growing our workforce's AI expertise to meet the ever-changing landscape of AI opportunities and challenges. Providing foundational AI training will assist in carrying out the agency's work, which, in turn, will benefit external stakeholders. Moreover, as more of our examining and business activities continue to involve AI, and as AI technology becomes increasingly critical to delivering high-quality services, we will also require more specialized exper tise in analyzing and implementing AI technology. Pursuant to section 2(g) of Executive Order\n",
      "\n",
      "Context:\n",
      "content:7 Overview of the USPTO AI Strategy The USPTO's 2022-2026 Strategic Plan (USPTO Strategic Plan) sets forth the agency's overall vision as \"Unleashing America's Potential\" and directs the agency to \"drive U.S. innovation, inclusive capitalism, and global competitiveness.\"12 This USPTO AI Strat egy defines the agency's AI priorities across policy, technology, research, and other domains in service of the USPTO Strategic Plan. Our agency's AI vision is to unleash America's potential through the adoption of AI to drive and scale U.S. innovation, inclusive capitalism, and global competitiveness. To realize this vision, we will pursue a mission centered on fostering AI innovation, lever aging AI effectively and responsibly, and empowering the AI ecosystem with data and research. The USPTO will advance our AI vision and mission through five AI Focus Areas, each of which identifies a set of concrete actions for the agency to undertake. These Focus Areas complement one another, reflecting the\n",
      "\n",
      "Context:\n",
      "content:18 Focus Area 3: Promote the responsible use of AI within the USPTO and across the broader innovation ecosystem. The benefits of AI must be maximized in a responsible manner. The principles of responsible AI--safety, fairness, transparency, privacy, reliability, and accountability-- are pillars of the Federal Government's approach to AI. In particular, Executive Order 13960, Promoting the Use of Trustworthy Artificial Intelligence in the Federal Govern ment, established principles for the trustworthy use of AI by Federal agencies. Exec utive Order 14110 further directed Federal agencies to advance the responsible use of AI, including through the appropriate and secure use of generative AI systems.38 These and other applicable laws, regulations, and directives will continue to guide how the USPTO adopts AI in its operations. Beyond the Federal Government, we must also promote the responsible development and use of AI across all of society. The Blueprint for an AI Bill of Rights\n",
      "\n",
      "Context:\n",
      "content:advance our AI vision and mission through five AI Focus Areas, each of which identifies a set of concrete actions for the agency to undertake. These Focus Areas complement one another, reflecting the collaborative and interconnected nature of our AI initiatives. 12 United States Patent and Trademark Office 2022-2026 Strategic Plan, at p.7 (May 19, 2023), www.uspto.gov/sites/default/ files/documents/USPTO2022-2026StrategicPlan.pdf. USPTO AI Vision Unleashing America's potential through the adoption of AI to drive and scale U.S. innovation, inclusive capitalism, and global competitiveness. USPTO AI Mission Foster the research, development, and commercialization of AI in the domestic and global economy. Leverage AI effectively and responsibly to empower our staff, optimize our operations, and deliver value to our stakeholders. Empower current and future innovation and investment in the same through data and research. USPTO AI Focus Areas 1. Advance the development of IP policies that\n",
      "\n",
      "Context:\n",
      "content:Beliveau, Scott, et al., USPTO - Explainable AI for Patent Professionals, 2024, https://kaggle.com/competitions/uspto- explainable-ai. As of June 2024, nearly 80% of USPTO patent examiners had used AI-powered features such as More-Like- This-Document and Similarity Search across over 480,000 cases. These features provide examiners with a supplement to traditional, keyword-based search methods, helping ensure that examiners can efficiently locate prior art documents that may pertain to a given application's patentability.\n",
      "\n",
      "Context:\n",
      "content:Force.52 Action 4.2: Empower our workforce with AI expertise to support diverse organizational needs. From IT and analytics to empirical research and legal services, our workforce's famil iarity with AI is critical to the USPTO's success. We will empower our teams with the right expertise to navigate new opportunities and impacts presented by AI within their respective workstreams. Each USPTO business unit maintains training programs to meet the specific needs of their personnel. When those needs call for specific AI skillsets, we will support our organizational leaders and personnel in identifying appro priate resources for developing those skillsets. In doing so, we will consider areas such as the following:  IT: To enable the ambitious AI innovation agenda set forth in Focus Area 2 (see above), we will develop a bench of AI product development talent by upskilling our IT professionals and recruiting those with relevant expertise to the USPTO. First, we will build on the AI training\n",
      "\n",
      "Context:\n",
      "content:14 Focus Area 2: Build best-in-class AI capabilities by investing in computational infrastructure, data resources, and business-driven product development. AI innovation holds tremendous potential for public benefit, including the chance to improve the effectiveness, efficiency, accessibility, and responsiveness within the Federal Government. The USPTO has long invested in information technology (IT) to support the effective and efficient delivery of reliable IP rights. As AI's ability to aid our efforts becomes apparent, the USPTO will evaluate and implement safe and reliable AI technology as an integral component of our overall IT portfolio. The USPTO embraces an expansive view of AI's potential to improve agency operations, enhance employee effectiveness, and advance equitable access to the IP system. We are proud to be Federal leaders in bringing AI innovation to impact for our personnel and the public. Today, our AI-driven systems analyze virtually all nonprovisional utility\n",
      "\n",
      "Context:\n",
      "content:[Page 3]\n",
      "\n",
      "Context:\n",
      "content:29 Appendix B: Acknowledgments The USPTO is fortunate to have many experts in technical, legal, policy, and other domains relevant to AI. Many of these individuals lent considerable time to defining and shaping the USPTO AI Strategy. These individuals include Scott Beliveau, Cha resse Evans, Chris Hannon, Jeff Isaacs, Alex Kerzhner, Charles Kim, Thomas Krause, Sri Kumar, Marie Ladino, Jerry Ma, Steve Moore, Nalini Mummalaneni, Renee Murdock, Claudia Murguia, Christyann Pulliam, Linda Quigley, Branden Ritchie, Sid Rosenzweig, Meredith Schoenfeld, Susan Sharp, Matt Sked, Eileen Soto, Matt Such, Greg Vidovich, Laura West, Nelson Yang, and many other colleagues whose insights enriched the document. The USPTO AI Strategy is also informed by the agency's many AI-related engagements with experts and stakeholders across the nation and the world. The USPTO thanks all who have shared perspectives on the future of AI and IP, including through the AI/ET Partnership, the USPTO's Public Advisory\n",
      "\n",
      "Context:\n",
      "content:22 a baseline level of foundational AI fluency will broadly benefit all examiners and, through them, the public. The USPTO has already invested substantial resources in developing and curating AI curricula tailored to our specific needs. We will continue developing and refining such curricula, leveraging resources including USPTO-hosted lectures, interagency and external training offerings, and other material.  Ensuring depth and recency of training offerings: Certain patent examiners, including those who examine particularly complex applications of AI or cutting- edge advances in foundational AI, may benefit from deeper AI knowledge. Our patent examiners already benefit from the Patent Examiner Technical Training Program and Site Experience Education program, which expose examiners to new developments in areas including AI. The USPTO will explore ways to augment existing offerings to instill deep expertise in relevant AI technologies and keep pace with the innovation frontier--for\n",
      "        \n",
      "        Question: Summarize focus area 3\n",
      "\n",
      "\n",
      "        Instructions:\n",
      "        Consider yourself as a helpful RAG assistant that answers questions.\n",
      "        Find and use the information from the raw texts to answer the question.\n",
      "        Answer the question in a direct way without referring to the texts.\n",
      "        List the individual page number(s) of the information that you used to answer the question. Cite it at the end of your response.\n",
      "        Ensure that the answer is coherent, logically structured, and uses clear language.\n",
      "    \u001b[0m\n"
     ]
    },
    {
     "name": "stdout",
     "output_type": "stream",
     "text": [
      "\n",
      "\u001b[1m> Finished chain.\u001b[0m\n",
      "\n",
      "\u001b[1m> Finished chain.\u001b[0m\n"
     ]
    }
   ],
   "source": [
    "document_prompt = PromptTemplate(\n",
    "    input_variables=[\"page_content\"],\n",
    "    template=\"Context:\\ncontent:{page_content}\",\n",
    ")\n",
    "\n",
    "combine_documents_chain = StuffDocumentsChain(\n",
    "                  llm_chain=llm_chain,\n",
    "                  document_variable_name=\"context\",\n",
    "                  document_prompt=document_prompt,\n",
    "                  callbacks=None,\n",
    "              )\n",
    "\n",
    "qa = RetrievalQA(\n",
    "                  combine_documents_chain=combine_documents_chain,\n",
    "                  verbose=True,\n",
    "                  retriever=retriever,\n",
    "                  return_source_documents=True,\n",
    "              )\n",
    "\n",
    "vanilla_RAG_response = qa(query)[\"result\"]"
   ]
  },
  {
   "cell_type": "markdown",
   "id": "79678570",
   "metadata": {},
   "source": [
    "# Compare both responses"
   ]
  },
  {
   "cell_type": "code",
   "execution_count": 62,
   "id": "b9cdebea",
   "metadata": {},
   "outputs": [
    {
     "name": "stdout",
     "output_type": "stream",
     "text": [
      "Focus Area 3 of the USPTO AI Strategy is centered on promoting the responsible use of AI within the USPTO and across the broader innovation ecosystem. This involves maximizing the benefits of AI in a responsible manner by adhering to principles such as safety, fairness, transparency, privacy, reliability, and accountability. The USPTO aims to maintain public trust in its AI adoption through value-aligned product development, risk mitigation, and transparent communication with stakeholders. The agency will also monitor the use of AI in the innovation ecosystem to encourage beneficial and responsible use through policy and guidance. This includes understanding AI's role in legal practice and promoting IP awareness and compliance with IP laws and policies. The USPTO emphasizes the importance of responsible AI practices, including lawful data sourcing and respecting IP rights, as essential components of the AI innovation ecosystem. [Pages 18, 19, 20]\n"
     ]
    }
   ],
   "source": [
    "print(extrapolated_RAG_response)"
   ]
  },
  {
   "cell_type": "code",
   "execution_count": 63,
   "id": "d6435d64",
   "metadata": {},
   "outputs": [
    {
     "name": "stdout",
     "output_type": "stream",
     "text": [
      "Focus Area 3 of the USPTO AI Strategy is centered on promoting the responsible use of AI within the USPTO and across the broader innovation ecosystem. It emphasizes maximizing the benefits of AI in a responsible manner by adhering to principles such as safety, fairness, transparency, privacy, reliability, and accountability. The strategy is guided by Executive Orders 13960 and 14110, which establish principles for the trustworthy use of AI by Federal agencies and direct them to advance the responsible use of AI, including the secure use of generative AI systems. The USPTO aims to adopt AI responsibly in its operations and promote its responsible development and use across society. [Page 18]\n"
     ]
    }
   ],
   "source": [
    "print(vanilla_RAG_response)"
   ]
  },
  {
   "cell_type": "code",
   "execution_count": null,
   "id": "b6a459cd",
   "metadata": {},
   "outputs": [],
   "source": []
  },
  {
   "cell_type": "code",
   "execution_count": null,
   "id": "d594b33a",
   "metadata": {},
   "outputs": [],
   "source": []
  }
 ],
 "metadata": {
  "kernelspec": {
   "display_name": "Python 3 (ipykernel)",
   "language": "python",
   "name": "python3"
  },
  "language_info": {
   "codemirror_mode": {
    "name": "ipython",
    "version": 3
   },
   "file_extension": ".py",
   "mimetype": "text/x-python",
   "name": "python",
   "nbconvert_exporter": "python",
   "pygments_lexer": "ipython3",
   "version": "3.10.9"
  }
 },
 "nbformat": 4,
 "nbformat_minor": 5
}
